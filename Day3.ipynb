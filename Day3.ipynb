{
 "cells": [
  {
   "cell_type": "markdown",
   "id": "76496273",
   "metadata": {},
   "source": [
    "# Selenium 라이브러리\n",
    "- 웹페이지를 자동으로 제어하는 라이브러리"
   ]
  },
  {
   "cell_type": "code",
   "execution_count": 1,
   "id": "5fe8867c",
   "metadata": {
    "collapsed": true
   },
   "outputs": [
    {
     "name": "stdout",
     "output_type": "stream",
     "text": [
      "Collecting selenium\n",
      "  Downloading selenium-4.1.0-py3-none-any.whl (958 kB)\n",
      "Collecting trio-websocket~=0.9\n",
      "  Downloading trio_websocket-0.9.2-py3-none-any.whl (16 kB)\n",
      "Collecting trio~=0.17\n",
      "  Downloading trio-0.19.0-py3-none-any.whl (356 kB)\n",
      "Requirement already satisfied: urllib3[secure]~=1.26 in c:\\users\\smhrd\\anaconda3\\lib\\site-packages (from selenium) (1.26.7)\n",
      "Collecting outcome\n",
      "  Downloading outcome-1.1.0-py2.py3-none-any.whl (9.7 kB)\n",
      "Requirement already satisfied: async-generator>=1.9 in c:\\users\\smhrd\\anaconda3\\lib\\site-packages (from trio~=0.17->selenium) (1.10)\n",
      "Requirement already satisfied: sniffio in c:\\users\\smhrd\\anaconda3\\lib\\site-packages (from trio~=0.17->selenium) (1.2.0)\n",
      "Requirement already satisfied: idna in c:\\users\\smhrd\\anaconda3\\lib\\site-packages (from trio~=0.17->selenium) (3.2)\n",
      "Requirement already satisfied: attrs>=19.2.0 in c:\\users\\smhrd\\anaconda3\\lib\\site-packages (from trio~=0.17->selenium) (21.2.0)\n",
      "Requirement already satisfied: sortedcontainers in c:\\users\\smhrd\\anaconda3\\lib\\site-packages (from trio~=0.17->selenium) (2.4.0)\n",
      "Requirement already satisfied: cffi>=1.14 in c:\\users\\smhrd\\anaconda3\\lib\\site-packages (from trio~=0.17->selenium) (1.14.6)\n",
      "Requirement already satisfied: pycparser in c:\\users\\smhrd\\anaconda3\\lib\\site-packages (from cffi>=1.14->trio~=0.17->selenium) (2.20)\n",
      "Collecting wsproto>=0.14\n",
      "  Downloading wsproto-1.0.0-py3-none-any.whl (24 kB)\n",
      "Requirement already satisfied: pyOpenSSL>=0.14 in c:\\users\\smhrd\\anaconda3\\lib\\site-packages (from urllib3[secure]~=1.26->selenium) (21.0.0)\n",
      "Requirement already satisfied: cryptography>=1.3.4 in c:\\users\\smhrd\\anaconda3\\lib\\site-packages (from urllib3[secure]~=1.26->selenium) (3.4.8)\n",
      "Requirement already satisfied: certifi in c:\\users\\smhrd\\anaconda3\\lib\\site-packages (from urllib3[secure]~=1.26->selenium) (2021.10.8)\n",
      "Requirement already satisfied: six>=1.5.2 in c:\\users\\smhrd\\anaconda3\\lib\\site-packages (from pyOpenSSL>=0.14->urllib3[secure]~=1.26->selenium) (1.16.0)\n",
      "Collecting h11<1,>=0.9.0\n",
      "  Downloading h11-0.12.0-py3-none-any.whl (54 kB)\n",
      "Installing collected packages: outcome, h11, wsproto, trio, trio-websocket, selenium\n",
      "Successfully installed h11-0.12.0 outcome-1.1.0 selenium-4.1.0 trio-0.19.0 trio-websocket-0.9.2 wsproto-1.0.0\n"
     ]
    }
   ],
   "source": [
    "# 기본으로 내장된 라이브러리가 아니기 때문에 반드시 한번 설치!\n",
    "!pip install selenium"
   ]
  },
  {
   "cell_type": "code",
   "execution_count": 2,
   "id": "52269608",
   "metadata": {},
   "outputs": [],
   "source": [
    "# webdriver = 웹을 통제하기 위한 라이브러리 (크롬브라우저)\n",
    "# Keys = 키보드 역할을 해주는 라이브러리\n",
    "from selenium import webdriver as wb\n",
    "from selenium.webdriver.common.keys import Keys"
   ]
  },
  {
   "cell_type": "code",
   "execution_count": 4,
   "id": "5ffdbc9b",
   "metadata": {},
   "outputs": [],
   "source": [
    "# wb.Chrome() = 크롬창을 실행하기 위한 명령\n",
    "## .get(\"URL\") = 원하는 페이지의 정보를 요청하는 기능\n",
    "\n",
    "# 크롬드라이버 좀 실행 시켜줘\n",
    "driver = wb.Chrome()\n",
    "# 드라이버야 네이버 페이지 좀 가져와줘\n",
    "driver.get(\"https://www.naver.com\")"
   ]
  },
  {
   "cell_type": "code",
   "execution_count": 24,
   "id": "6f2e44ed",
   "metadata": {
    "scrolled": true
   },
   "outputs": [
    {
     "name": "stderr",
     "output_type": "stream",
     "text": [
      "C:\\Users\\smhrd\\AppData\\Local\\Temp/ipykernel_10840/354107708.py:2: DeprecationWarning: find_element_by_* commands are deprecated. Please use find_element() instead\n",
      "  search = driver.find_element_by_id(\"query\")\n"
     ]
    }
   ],
   "source": [
    "# 드라이버야 아이디가 ~인 요소 좀 찾아와\n",
    "search = driver.find_element_by_id(\"query\")"
   ]
  },
  {
   "cell_type": "code",
   "execution_count": 25,
   "id": "de16fec5",
   "metadata": {},
   "outputs": [],
   "source": [
    "# 검색창에 코로나 값을 보내줘\n",
    "search.send_keys(\"코로나\")"
   ]
  },
  {
   "cell_type": "markdown",
   "id": "9bac4663",
   "metadata": {},
   "source": [
    "## 검색진행하기\n",
    "1. 엔터를 입력해서 검색"
   ]
  },
  {
   "cell_type": "code",
   "execution_count": 18,
   "id": "af8a0d92",
   "metadata": {},
   "outputs": [],
   "source": [
    "search.send_keys(Keys.ENTER)"
   ]
  },
  {
   "cell_type": "code",
   "execution_count": 56,
   "id": "86ad8026",
   "metadata": {},
   "outputs": [],
   "source": [
    "# 뒤로가라고 명령 (브라우저 driver)\n",
    "driver.back()"
   ]
  },
  {
   "cell_type": "code",
   "execution_count": 27,
   "id": "b245d789",
   "metadata": {
    "scrolled": true
   },
   "outputs": [
    {
     "name": "stderr",
     "output_type": "stream",
     "text": [
      "C:\\Users\\smhrd\\AppData\\Local\\Temp/ipykernel_10840/874347881.py:2: DeprecationWarning: find_element_by_* commands are deprecated. Please use find_element() instead\n",
      "  btn = driver.find_element_by_id(\"search_btn\")\n"
     ]
    }
   ],
   "source": [
    "# 2. 검색버튼 클릭\n",
    "btn = driver.find_element_by_id(\"search_btn\")"
   ]
  },
  {
   "cell_type": "code",
   "execution_count": 28,
   "id": "810a6d24",
   "metadata": {},
   "outputs": [],
   "source": [
    "btn.click()"
   ]
  },
  {
   "cell_type": "code",
   "execution_count": 29,
   "id": "dc6153a2",
   "metadata": {},
   "outputs": [],
   "source": [
    "# 창 종료\n",
    "# driver.close()\n",
    "driver.quit()"
   ]
  },
  {
   "cell_type": "markdown",
   "id": "29b1cf88",
   "metadata": {},
   "source": [
    "# 한솥도시락 사이트 메뉴명, 가격명 수집"
   ]
  },
  {
   "cell_type": "code",
   "execution_count": 57,
   "id": "4d9fd0ed",
   "metadata": {},
   "outputs": [],
   "source": [
    "# 1. 브라우저를 실행\n",
    "# 2. 한솥도시락 URL 이동\n",
    "driver = wb.Chrome()\n",
    "driver.get(\"https://www.hsd.co.kr/menu/menu_list\")"
   ]
  },
  {
   "cell_type": "code",
   "execution_count": 40,
   "id": "977cabe5",
   "metadata": {
    "scrolled": true
   },
   "outputs": [
    {
     "name": "stderr",
     "output_type": "stream",
     "text": [
      "C:\\Users\\smhrd\\AppData\\Local\\Temp/ipykernel_10840/3769093897.py:1: DeprecationWarning: find_elements_by_* commands are deprecated. Please use find_elements() instead\n",
      "  title = driver.find_elements_by_css_selector(\"h4.h.fz_03\")\n"
     ]
    }
   ],
   "source": [
    "title = driver.find_elements_by_css_selector(\"h4.h.fz_03\")"
   ]
  },
  {
   "cell_type": "code",
   "execution_count": 37,
   "id": "a9ab7412",
   "metadata": {
    "collapsed": true
   },
   "outputs": [
    {
     "name": "stdout",
     "output_type": "stream",
     "text": [
      "행사 숯불직화구이 덮밥\n",
      "행사 제육 김치 부대찌개 정식\n",
      "행사 빅치킨마요 김치 부대찌개 정식\n",
      "행사 돈까스도련님 고기고기\n",
      "행사 동백\n",
      "행사 새치 고기고기\n",
      "행사 진달래\n",
      "행사 스팸 김치볶음밥\n",
      "매화(치킨, 연어구이)\n",
      "매화(순살 고등어 간장구이)\n",
      "진달래\n",
      "개나리(순살 고등어 간장구이)\n",
      "돈까스도련님고기고기\n",
      "탕수육도련님고기고기\n",
      "새치 고기고기\n",
      "돈치 고기고기\n",
      "고기고기\n",
      "숯불직화구이\n",
      "소불고기\n",
      "메가치킨제육\n",
      "칠리 찹쌀탕수육도련님\n",
      "동백\n",
      "치킨제육\n",
      "돈까스도련님\n",
      "제육볶음\n",
      "돈치스팸 도시락\n",
      "제육 김치찌개 정식\n",
      "제육 김치 부대찌개 정식\n",
      "돈치스팸 김치 부대찌개 정식\n",
      "빅치킨마요 김치 부대찌개 정식\n",
      "치킨마요 김치 부대찌개 정식\n",
      "돈치스팸 김치찌개 정식\n",
      "빅치킨마요 김치찌개 정식\n",
      "치킨마요 김치찌개 정식\n",
      "메가스팸마요\n",
      "스팸마요\n",
      "메가치킨마요\n",
      "왕치킨마요\n",
      "빅치킨마요\n",
      "치킨마요\n",
      "참치마요\n",
      "돈치마요\n",
      "치즈 카레도시락\n",
      "돈까스 카레\n",
      "3종치즈 김치볶음밥\n",
      "스팸 김치볶음밥\n",
      "김치볶음밥\n",
      "스팸철판볶음밥\n",
      "소불고기 철판볶음밥\n",
      "소고기 육개장\n",
      "묵은지 김치찌개\n",
      "김치 부대찌개\n",
      "반찬 김치 부대찌개\n",
      "숯불직화구이 덮밥\n",
      "마파두부 덮밥\n",
      "왕카레돈까스덮밥\n",
      "새우돈까스 덮밥\n",
      "돈까스 덮밥\n",
      "소불고기 감초고추장 비빔밥\n",
      "시골제육 두부강된장 비빔밥\n",
      "참치야채 감초고추장\n",
      "두부강정 야채비빔밥\n",
      "열무 두부강된장 비빔밥\n",
      "튼튼도시락\n"
     ]
    }
   ],
   "source": [
    "for i in title :\n",
    "    print(i.text)"
   ]
  },
  {
   "cell_type": "code",
   "execution_count": 39,
   "id": "99f2c10f",
   "metadata": {
    "scrolled": false
   },
   "outputs": [
    {
     "name": "stderr",
     "output_type": "stream",
     "text": [
      "C:\\Users\\smhrd\\AppData\\Local\\Temp/ipykernel_10840/3962881029.py:1: DeprecationWarning: find_elements_by_* commands are deprecated. Please use find_elements() instead\n",
      "  price = driver.find_elements_by_css_selector(\"div.item-price > strong\")\n"
     ]
    }
   ],
   "source": [
    "price = driver.find_elements_by_css_selector(\"div.item-price > strong\")"
   ]
  },
  {
   "cell_type": "code",
   "execution_count": 41,
   "id": "1d6e054f",
   "metadata": {
    "collapsed": true
   },
   "outputs": [
    {
     "name": "stdout",
     "output_type": "stream",
     "text": [
      "4,900\n",
      "7,200\n",
      "6,300\n",
      "4,900\n",
      "4,600\n",
      "5,200\n",
      "5,900\n",
      "3,900\n",
      "10,000\n",
      "10,000\n",
      "7,000\n",
      "8,000\n",
      "5,800\n",
      "5,800\n",
      "6,200\n",
      "5,400\n",
      "4,200\n",
      "6,500\n",
      "5,000\n",
      "7,000\n",
      "4,200\n",
      "5,500\n",
      "4,500\n",
      "4,200\n",
      "4,100\n",
      "4,700\n",
      "8,200\n",
      "8,500\n",
      "8,500\n",
      "7,400\n",
      "6,800\n",
      "8,200\n",
      "7,000\n",
      "6,400\n",
      "5,600\n",
      "3,600\n",
      "5,500\n",
      "4,500\n",
      "3,800\n",
      "3,200\n",
      "3,000\n",
      "3,600\n",
      "4,100\n",
      "4,200\n",
      "4,800\n",
      "4,700\n",
      "3,900\n",
      "4,500\n",
      "4,500\n",
      "4,700\n",
      "4,500\n",
      "5,800\n",
      "4,500\n",
      "5,900\n",
      "5,000\n",
      "5,700\n",
      "3,900\n",
      "3,800\n",
      "5,000\n",
      "5,000\n",
      "3,200\n",
      "4,800\n",
      "4,300\n",
      "5,000\n"
     ]
    }
   ],
   "source": [
    "for i in price :\n",
    "    print(i.text)"
   ]
  },
  {
   "cell_type": "code",
   "execution_count": 58,
   "id": "91f1f6b0",
   "metadata": {
    "scrolled": true
   },
   "outputs": [
    {
     "name": "stderr",
     "output_type": "stream",
     "text": [
      "C:\\Users\\smhrd\\AppData\\Local\\Temp/ipykernel_10840/2899420486.py:2: DeprecationWarning: find_element_by_* commands are deprecated. Please use find_element() instead\n",
      "  btn = driver.find_element_by_css_selector(\"a.c_05\")\n"
     ]
    }
   ],
   "source": [
    "# 더보기 버튼을 클릭!\n",
    "btn = driver.find_element_by_css_selector(\"a.c_05\")"
   ]
  },
  {
   "cell_type": "code",
   "execution_count": 46,
   "id": "45afd8df",
   "metadata": {
    "collapsed": true
   },
   "outputs": [
    {
     "ename": "ElementNotInteractableException",
     "evalue": "Message: element not interactable\n  (Session info: chrome=96.0.4664.110)\nStacktrace:\nBacktrace:\n\tOrdinal0 [0x01076903+2517251]\n\tOrdinal0 [0x0100F8E1+2095329]\n\tOrdinal0 [0x00F12710+1058576]\n\tOrdinal0 [0x00F3E324+1237796]\n\tOrdinal0 [0x00F34037+1196087]\n\tOrdinal0 [0x00F564D3+1336531]\n\tOrdinal0 [0x00F33A36+1194550]\n\tOrdinal0 [0x00F565BA+1336762]\n\tOrdinal0 [0x00F65BBF+1399743]\n\tOrdinal0 [0x00F5639B+1336219]\n\tOrdinal0 [0x00F327A7+1189799]\n\tOrdinal0 [0x00F33609+1193481]\n\tGetHandleVerifier [0x01205904+1577972]\n\tGetHandleVerifier [0x012B0B97+2279047]\n\tGetHandleVerifier [0x01106D09+534521]\n\tGetHandleVerifier [0x01105DB9+530601]\n\tOrdinal0 [0x01014FF9+2117625]\n\tOrdinal0 [0x010198A8+2136232]\n\tOrdinal0 [0x010199E2+2136546]\n\tOrdinal0 [0x01023541+2176321]\n\tBaseThreadInitThunk [0x7689FA29+25]\n\tRtlGetAppContainerNamedObjectPath [0x77747A9E+286]\n\tRtlGetAppContainerNamedObjectPath [0x77747A6E+238]\n",
     "output_type": "error",
     "traceback": [
      "\u001b[1;31m---------------------------------------------------------------------------\u001b[0m",
      "\u001b[1;31mElementNotInteractableException\u001b[0m           Traceback (most recent call last)",
      "\u001b[1;32m~\\AppData\\Local\\Temp/ipykernel_10840/1831462817.py\u001b[0m in \u001b[0;36m<module>\u001b[1;34m\u001b[0m\n\u001b[1;32m----> 1\u001b[1;33m \u001b[0mbtn\u001b[0m\u001b[1;33m.\u001b[0m\u001b[0mclick\u001b[0m\u001b[1;33m(\u001b[0m\u001b[1;33m)\u001b[0m\u001b[1;33m\u001b[0m\u001b[1;33m\u001b[0m\u001b[0m\n\u001b[0m",
      "\u001b[1;32m~\\anaconda3\\lib\\site-packages\\selenium\\webdriver\\remote\\webelement.py\u001b[0m in \u001b[0;36mclick\u001b[1;34m(self)\u001b[0m\n\u001b[0;32m     79\u001b[0m     \u001b[1;32mdef\u001b[0m \u001b[0mclick\u001b[0m\u001b[1;33m(\u001b[0m\u001b[0mself\u001b[0m\u001b[1;33m)\u001b[0m \u001b[1;33m->\u001b[0m \u001b[1;32mNone\u001b[0m\u001b[1;33m:\u001b[0m\u001b[1;33m\u001b[0m\u001b[1;33m\u001b[0m\u001b[0m\n\u001b[0;32m     80\u001b[0m         \u001b[1;34m\"\"\"Clicks the element.\"\"\"\u001b[0m\u001b[1;33m\u001b[0m\u001b[1;33m\u001b[0m\u001b[0m\n\u001b[1;32m---> 81\u001b[1;33m         \u001b[0mself\u001b[0m\u001b[1;33m.\u001b[0m\u001b[0m_execute\u001b[0m\u001b[1;33m(\u001b[0m\u001b[0mCommand\u001b[0m\u001b[1;33m.\u001b[0m\u001b[0mCLICK_ELEMENT\u001b[0m\u001b[1;33m)\u001b[0m\u001b[1;33m\u001b[0m\u001b[1;33m\u001b[0m\u001b[0m\n\u001b[0m\u001b[0;32m     82\u001b[0m \u001b[1;33m\u001b[0m\u001b[0m\n\u001b[0;32m     83\u001b[0m     \u001b[1;32mdef\u001b[0m \u001b[0msubmit\u001b[0m\u001b[1;33m(\u001b[0m\u001b[0mself\u001b[0m\u001b[1;33m)\u001b[0m\u001b[1;33m:\u001b[0m\u001b[1;33m\u001b[0m\u001b[1;33m\u001b[0m\u001b[0m\n",
      "\u001b[1;32m~\\anaconda3\\lib\\site-packages\\selenium\\webdriver\\remote\\webelement.py\u001b[0m in \u001b[0;36m_execute\u001b[1;34m(self, command, params)\u001b[0m\n\u001b[0;32m    708\u001b[0m             \u001b[0mparams\u001b[0m \u001b[1;33m=\u001b[0m \u001b[1;33m{\u001b[0m\u001b[1;33m}\u001b[0m\u001b[1;33m\u001b[0m\u001b[1;33m\u001b[0m\u001b[0m\n\u001b[0;32m    709\u001b[0m         \u001b[0mparams\u001b[0m\u001b[1;33m[\u001b[0m\u001b[1;34m'id'\u001b[0m\u001b[1;33m]\u001b[0m \u001b[1;33m=\u001b[0m \u001b[0mself\u001b[0m\u001b[1;33m.\u001b[0m\u001b[0m_id\u001b[0m\u001b[1;33m\u001b[0m\u001b[1;33m\u001b[0m\u001b[0m\n\u001b[1;32m--> 710\u001b[1;33m         \u001b[1;32mreturn\u001b[0m \u001b[0mself\u001b[0m\u001b[1;33m.\u001b[0m\u001b[0m_parent\u001b[0m\u001b[1;33m.\u001b[0m\u001b[0mexecute\u001b[0m\u001b[1;33m(\u001b[0m\u001b[0mcommand\u001b[0m\u001b[1;33m,\u001b[0m \u001b[0mparams\u001b[0m\u001b[1;33m)\u001b[0m\u001b[1;33m\u001b[0m\u001b[1;33m\u001b[0m\u001b[0m\n\u001b[0m\u001b[0;32m    711\u001b[0m \u001b[1;33m\u001b[0m\u001b[0m\n\u001b[0;32m    712\u001b[0m     \u001b[1;32mdef\u001b[0m \u001b[0mfind_element\u001b[0m\u001b[1;33m(\u001b[0m\u001b[0mself\u001b[0m\u001b[1;33m,\u001b[0m \u001b[0mby\u001b[0m\u001b[1;33m=\u001b[0m\u001b[0mBy\u001b[0m\u001b[1;33m.\u001b[0m\u001b[0mID\u001b[0m\u001b[1;33m,\u001b[0m \u001b[0mvalue\u001b[0m\u001b[1;33m=\u001b[0m\u001b[1;32mNone\u001b[0m\u001b[1;33m)\u001b[0m\u001b[1;33m:\u001b[0m\u001b[1;33m\u001b[0m\u001b[1;33m\u001b[0m\u001b[0m\n",
      "\u001b[1;32m~\\anaconda3\\lib\\site-packages\\selenium\\webdriver\\remote\\webdriver.py\u001b[0m in \u001b[0;36mexecute\u001b[1;34m(self, driver_command, params)\u001b[0m\n\u001b[0;32m    422\u001b[0m         \u001b[0mresponse\u001b[0m \u001b[1;33m=\u001b[0m \u001b[0mself\u001b[0m\u001b[1;33m.\u001b[0m\u001b[0mcommand_executor\u001b[0m\u001b[1;33m.\u001b[0m\u001b[0mexecute\u001b[0m\u001b[1;33m(\u001b[0m\u001b[0mdriver_command\u001b[0m\u001b[1;33m,\u001b[0m \u001b[0mparams\u001b[0m\u001b[1;33m)\u001b[0m\u001b[1;33m\u001b[0m\u001b[1;33m\u001b[0m\u001b[0m\n\u001b[0;32m    423\u001b[0m         \u001b[1;32mif\u001b[0m \u001b[0mresponse\u001b[0m\u001b[1;33m:\u001b[0m\u001b[1;33m\u001b[0m\u001b[1;33m\u001b[0m\u001b[0m\n\u001b[1;32m--> 424\u001b[1;33m             \u001b[0mself\u001b[0m\u001b[1;33m.\u001b[0m\u001b[0merror_handler\u001b[0m\u001b[1;33m.\u001b[0m\u001b[0mcheck_response\u001b[0m\u001b[1;33m(\u001b[0m\u001b[0mresponse\u001b[0m\u001b[1;33m)\u001b[0m\u001b[1;33m\u001b[0m\u001b[1;33m\u001b[0m\u001b[0m\n\u001b[0m\u001b[0;32m    425\u001b[0m             response['value'] = self._unwrap_value(\n\u001b[0;32m    426\u001b[0m                 response.get('value', None))\n",
      "\u001b[1;32m~\\anaconda3\\lib\\site-packages\\selenium\\webdriver\\remote\\errorhandler.py\u001b[0m in \u001b[0;36mcheck_response\u001b[1;34m(self, response)\u001b[0m\n\u001b[0;32m    245\u001b[0m                 \u001b[0malert_text\u001b[0m \u001b[1;33m=\u001b[0m \u001b[0mvalue\u001b[0m\u001b[1;33m[\u001b[0m\u001b[1;34m'alert'\u001b[0m\u001b[1;33m]\u001b[0m\u001b[1;33m.\u001b[0m\u001b[0mget\u001b[0m\u001b[1;33m(\u001b[0m\u001b[1;34m'text'\u001b[0m\u001b[1;33m)\u001b[0m\u001b[1;33m\u001b[0m\u001b[1;33m\u001b[0m\u001b[0m\n\u001b[0;32m    246\u001b[0m             \u001b[1;32mraise\u001b[0m \u001b[0mexception_class\u001b[0m\u001b[1;33m(\u001b[0m\u001b[0mmessage\u001b[0m\u001b[1;33m,\u001b[0m \u001b[0mscreen\u001b[0m\u001b[1;33m,\u001b[0m \u001b[0mstacktrace\u001b[0m\u001b[1;33m,\u001b[0m \u001b[0malert_text\u001b[0m\u001b[1;33m)\u001b[0m  \u001b[1;31m# type: ignore[call-arg]  # mypy is not smart enough here\u001b[0m\u001b[1;33m\u001b[0m\u001b[1;33m\u001b[0m\u001b[0m\n\u001b[1;32m--> 247\u001b[1;33m         \u001b[1;32mraise\u001b[0m \u001b[0mexception_class\u001b[0m\u001b[1;33m(\u001b[0m\u001b[0mmessage\u001b[0m\u001b[1;33m,\u001b[0m \u001b[0mscreen\u001b[0m\u001b[1;33m,\u001b[0m \u001b[0mstacktrace\u001b[0m\u001b[1;33m)\u001b[0m\u001b[1;33m\u001b[0m\u001b[1;33m\u001b[0m\u001b[0m\n\u001b[0m\u001b[0;32m    248\u001b[0m \u001b[1;33m\u001b[0m\u001b[0m\n\u001b[0;32m    249\u001b[0m     \u001b[1;32mdef\u001b[0m \u001b[0m_value_or_default\u001b[0m\u001b[1;33m(\u001b[0m\u001b[0mself\u001b[0m\u001b[1;33m,\u001b[0m \u001b[0mobj\u001b[0m\u001b[1;33m:\u001b[0m \u001b[0mMapping\u001b[0m\u001b[1;33m[\u001b[0m\u001b[0m_KT\u001b[0m\u001b[1;33m,\u001b[0m \u001b[0m_VT\u001b[0m\u001b[1;33m]\u001b[0m\u001b[1;33m,\u001b[0m \u001b[0mkey\u001b[0m\u001b[1;33m:\u001b[0m \u001b[0m_KT\u001b[0m\u001b[1;33m,\u001b[0m \u001b[0mdefault\u001b[0m\u001b[1;33m:\u001b[0m \u001b[0m_VT\u001b[0m\u001b[1;33m)\u001b[0m \u001b[1;33m->\u001b[0m \u001b[0m_VT\u001b[0m\u001b[1;33m:\u001b[0m\u001b[1;33m\u001b[0m\u001b[1;33m\u001b[0m\u001b[0m\n",
      "\u001b[1;31mElementNotInteractableException\u001b[0m: Message: element not interactable\n  (Session info: chrome=96.0.4664.110)\nStacktrace:\nBacktrace:\n\tOrdinal0 [0x01076903+2517251]\n\tOrdinal0 [0x0100F8E1+2095329]\n\tOrdinal0 [0x00F12710+1058576]\n\tOrdinal0 [0x00F3E324+1237796]\n\tOrdinal0 [0x00F34037+1196087]\n\tOrdinal0 [0x00F564D3+1336531]\n\tOrdinal0 [0x00F33A36+1194550]\n\tOrdinal0 [0x00F565BA+1336762]\n\tOrdinal0 [0x00F65BBF+1399743]\n\tOrdinal0 [0x00F5639B+1336219]\n\tOrdinal0 [0x00F327A7+1189799]\n\tOrdinal0 [0x00F33609+1193481]\n\tGetHandleVerifier [0x01205904+1577972]\n\tGetHandleVerifier [0x012B0B97+2279047]\n\tGetHandleVerifier [0x01106D09+534521]\n\tGetHandleVerifier [0x01105DB9+530601]\n\tOrdinal0 [0x01014FF9+2117625]\n\tOrdinal0 [0x010198A8+2136232]\n\tOrdinal0 [0x010199E2+2136546]\n\tOrdinal0 [0x01023541+2176321]\n\tBaseThreadInitThunk [0x7689FA29+25]\n\tRtlGetAppContainerNamedObjectPath [0x77747A9E+286]\n\tRtlGetAppContainerNamedObjectPath [0x77747A6E+238]\n"
     ]
    }
   ],
   "source": [
    "btn.click()"
   ]
  },
  {
   "cell_type": "markdown",
   "id": "8ef58884",
   "metadata": {},
   "source": [
    "# 예외처리 try, except\n",
    "- try : 오류 나기전까지 실행할 로직\n",
    "- except : 오류가 났을 때 실행할 로직"
   ]
  },
  {
   "cell_type": "code",
   "execution_count": 55,
   "id": "cbd774a3",
   "metadata": {},
   "outputs": [],
   "source": [
    "# time 라이브러리\n",
    "# 코드 중간중간에 쉬는시간을 부여\n",
    "import time"
   ]
  },
  {
   "cell_type": "code",
   "execution_count": 59,
   "id": "6ca5268a",
   "metadata": {},
   "outputs": [
    {
     "name": "stdout",
     "output_type": "stream",
     "text": [
      "더보기가 끝났습니다.\n"
     ]
    }
   ],
   "source": [
    "try :\n",
    "    for i in range(10):\n",
    "        btn.click()\n",
    "        time.sleep(2)\n",
    "except :\n",
    "    print(\"더보기가 끝났습니다.\")"
   ]
  },
  {
   "cell_type": "code",
   "execution_count": 82,
   "id": "71ec3b23",
   "metadata": {},
   "outputs": [
    {
     "name": "stderr",
     "output_type": "stream",
     "text": [
      "C:\\Users\\smhrd\\AppData\\Local\\Temp/ipykernel_10840/4097073259.py:3: DeprecationWarning: find_elements_by_* commands are deprecated. Please use find_elements() instead\n",
      "  title = driver.find_elements_by_css_selector(\"h4.h.fz_03\")\n",
      "C:\\Users\\smhrd\\AppData\\Local\\Temp/ipykernel_10840/4097073259.py:4: DeprecationWarning: find_elements_by_* commands are deprecated. Please use find_elements() instead\n",
      "  price = driver.find_elements_by_css_selector(\"div.item-price > strong\")\n"
     ]
    }
   ],
   "source": [
    "# 모든 메뉴명, 가격명\n",
    "# 데이터프레임 제작\n",
    "title = driver.find_elements_by_css_selector(\"h4.h.fz_03\")\n",
    "price = driver.find_elements_by_css_selector(\"div.item-price > strong\")"
   ]
  },
  {
   "cell_type": "code",
   "execution_count": 74,
   "id": "7be7484e",
   "metadata": {},
   "outputs": [],
   "source": [
    "import pandas as pd"
   ]
  },
  {
   "cell_type": "code",
   "execution_count": 84,
   "id": "b7d30499",
   "metadata": {},
   "outputs": [],
   "source": [
    "title_list = []\n",
    "price_list = []\n",
    "\n",
    "for i in range(len(title)) :\n",
    "    title_list.append(title[i].text)\n",
    "    price_list.append(price[i].text)"
   ]
  },
  {
   "cell_type": "code",
   "execution_count": 86,
   "id": "34a80009",
   "metadata": {},
   "outputs": [],
   "source": [
    "dic = {'메뉴':title_list , '가격':price_list}"
   ]
  },
  {
   "cell_type": "code",
   "execution_count": 87,
   "id": "4366acb6",
   "metadata": {},
   "outputs": [],
   "source": [
    "df = pd.DataFrame(dic)"
   ]
  },
  {
   "cell_type": "code",
   "execution_count": 90,
   "id": "5d4afff4",
   "metadata": {},
   "outputs": [],
   "source": [
    "# 1. euc-kr\n",
    "# 2. \"\" (비워놓기)\n",
    "# 3. utf-8-sig\n",
    "df.to_csv(\"한솥.csv\", encoding=\"euc-kr\")"
   ]
  },
  {
   "cell_type": "code",
   "execution_count": 91,
   "id": "36c1e713",
   "metadata": {},
   "outputs": [],
   "source": [
    "df.to_html(\"한솥.html\")"
   ]
  },
  {
   "cell_type": "code",
   "execution_count": null,
   "id": "c08632c2",
   "metadata": {},
   "outputs": [],
   "source": []
  },
  {
   "cell_type": "code",
   "execution_count": null,
   "id": "69d50f69",
   "metadata": {},
   "outputs": [],
   "source": []
  },
  {
   "cell_type": "code",
   "execution_count": null,
   "id": "e15b3c89",
   "metadata": {},
   "outputs": [],
   "source": []
  },
  {
   "cell_type": "code",
   "execution_count": null,
   "id": "1793f737",
   "metadata": {},
   "outputs": [],
   "source": []
  },
  {
   "cell_type": "code",
   "execution_count": null,
   "id": "748605ff",
   "metadata": {},
   "outputs": [],
   "source": []
  },
  {
   "cell_type": "code",
   "execution_count": null,
   "id": "bbcc6c0b",
   "metadata": {},
   "outputs": [],
   "source": []
  },
  {
   "cell_type": "code",
   "execution_count": null,
   "id": "63a6519d",
   "metadata": {},
   "outputs": [],
   "source": []
  },
  {
   "cell_type": "code",
   "execution_count": null,
   "id": "a61c78f0",
   "metadata": {},
   "outputs": [],
   "source": []
  },
  {
   "cell_type": "code",
   "execution_count": null,
   "id": "aa0694ef",
   "metadata": {},
   "outputs": [],
   "source": []
  },
  {
   "cell_type": "code",
   "execution_count": null,
   "id": "8449fad0",
   "metadata": {},
   "outputs": [],
   "source": []
  },
  {
   "cell_type": "code",
   "execution_count": null,
   "id": "1df521df",
   "metadata": {},
   "outputs": [],
   "source": []
  }
 ],
 "metadata": {
  "kernelspec": {
   "display_name": "Python 3 (ipykernel)",
   "language": "python",
   "name": "python3"
  },
  "language_info": {
   "codemirror_mode": {
    "name": "ipython",
    "version": 3
   },
   "file_extension": ".py",
   "mimetype": "text/x-python",
   "name": "python",
   "nbconvert_exporter": "python",
   "pygments_lexer": "ipython3",
   "version": "3.9.7"
  }
 },
 "nbformat": 4,
 "nbformat_minor": 5
}
