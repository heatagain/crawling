{
 "cells": [
  {
   "cell_type": "code",
   "execution_count": 8,
   "id": "4b465b15",
   "metadata": {},
   "outputs": [],
   "source": [
    "from selenium import webdriver as wb\n",
    "from selenium.webdriver.common.keys import Keys\n",
    "import time\n",
    "from bs4 import BeautifulSoup as bs\n",
    "import os #파일시스템을 위한 라이브러리 ex)파일, 폴더를 생성\n",
    "from urllib.request import urlretrieve # 이미지의 경로를 파일로 저장시켜주는 라이브러리"
   ]
  },
  {
   "cell_type": "code",
   "execution_count": 2,
   "id": "57000348",
   "metadata": {},
   "outputs": [],
   "source": [
    "# 폴더를 생성\n",
    "# 바탕화면에 이미지라는 폴더가 없다면 폴더를 생성해줘!\n",
    "if not os.path.isdir(\"C:/Users/smhrd/Desktop/이미지\"):\n",
    "    os.mkdir(\"C:/Users/smhrd/Desktop/이미지\")"
   ]
  },
  {
   "cell_type": "code",
   "execution_count": 9,
   "id": "ecc75655",
   "metadata": {},
   "outputs": [],
   "source": [
    "driver = wb.Chrome()\n",
    "driver.get(\"https://search.naver.com/search.naver?sm=tab_hty.top&where=image&query=%EC%95%8C%ED%8C%8C%EA%B3%A0+%EA%B9%80%EC%84%B1%ED%98%84&oquery=stx+%EA%B9%80%EC%84%B1%ED%98%84&tqi=hOIu5sprvTVssf8LWWNssssst5N-487690\")"
   ]
  },
  {
   "cell_type": "code",
   "execution_count": 11,
   "id": "3a754d5d",
   "metadata": {},
   "outputs": [],
   "source": [
    "soup = bs(driver.page_source, \"lxml\")"
   ]
  },
  {
   "cell_type": "code",
   "execution_count": 14,
   "id": "abf9e10b",
   "metadata": {},
   "outputs": [],
   "source": [
    "img = soup.select(\"img._image._listImage\")"
   ]
  },
  {
   "cell_type": "code",
   "execution_count": 17,
   "id": "22c27f43",
   "metadata": {},
   "outputs": [],
   "source": [
    "imgSrc = []\n",
    "for i in img :\n",
    "    imgSrc.append(i[\"src\"])"
   ]
  },
  {
   "cell_type": "code",
   "execution_count": 18,
   "id": "fef7fd4b",
   "metadata": {
    "collapsed": true
   },
   "outputs": [
    {
     "data": {
      "text/plain": [
       "['https://search.pstatic.net/common/?src=http%3A%2F%2Fblogfiles.naver.net%2FMjAyMTA2MjFfMTQy%2FMDAxNjI0MjQyNzYxNzU5.3Sy_NxO_LhdIrRfpIiRU20QbQKTbI6j-1VJPhZIUFRgg.PwMrf4dRWHviRvkNDNmGXE7sQRFYKIvlDU0OjiuVnmQg.PNG.3811148%2Fimage.png&type=a340',\n",
       " 'https://search.pstatic.net/common/?src=http%3A%2F%2Fblogfiles.naver.net%2FMjAyMTA5MDFfMTM2%2FMDAxNjMwNDgyOTM4ODYz.uOtgzmnIZS72xKcRMrL9aCldbxXrUzY_m6yOT6Dyf1wg.nopEQpX47C4TK1YDZCcghDsRUBru6Xr482pKkZryH9Ig.PNG.kygggg%2F%25BD%25BA%25C5%25A9%25B8%25B0%25BC%25A6_2021-09-01_%25BF%25C0%25C8%25C4_4.54.33.png&type=a340',\n",
       " 'https://search.pstatic.net/common/?src=http%3A%2F%2Fblogfiles.naver.net%2FMjAyMTA2MDdfMTU3%2FMDAxNjIzMDI0MzQ0NjIy.fE_wL39lzjwZM_hVBlv6D3H6WjYA-wrtdPLmZOUL42Qg.54QjkVpvW7tUNsmTdiETH-N9JfhwP1TbPwBwO0O-65Ig.PNG.didskrdud22%2F%25BD%25BA%25C5%25A9%25B8%25B0%25BC%25A6_2021-06-07_%25BF%25C0%25C0%25FC_9.04.47.png&type=l340_165',\n",
       " 'https://search.pstatic.net/common/?src=http%3A%2F%2Fblogfiles.naver.net%2FMjAyMTA5MTZfNzYg%2FMDAxNjMxNzgzNzc1MzQ2.95R6mDrbBt9ODmjkFbD1qwhNCRGLDBZ0xAC-OpHsq00g.5h9Uc3VvAudK1CpAijsglZhldIjmF6TnRT47iNsPrXMg.JPEG.kkachi9120%2F%25BE%25CB%25C6%25C4%25B0%25ED.jpg&type=a340',\n",
       " 'data:image/gif;base64,R0lGODlhAQABAIAAAAAAAP///yH5BAEAAAAALAAAAAABAAEAAAIBRAA7',\n",
       " 'https://search.pstatic.net/common/?src=http%3A%2F%2Fimgnews.naver.net%2Fimage%2F109%2F2019%2F04%2F26%2F0003998247_001_20190426193906056.jpg&type=a340',\n",
       " 'data:image/gif;base64,R0lGODlhAQABAIAAAAAAAP///yH5BAEAAAAALAAAAAABAAEAAAIBRAA7',\n",
       " 'https://search.pstatic.net/common/?src=http%3A%2F%2Fblogfiles.naver.net%2FMjAyMTA5MjVfMTI2%2FMDAxNjMyNTYxNzg1MTA5.rQ__pPajbm89-zGwHPkgdwVlXqIVcqlv9vr706iJLGMg.hMbcHhrmcMgrzVPAlj32_aOm3S-qFnTcY2dSKrTtlWgg.PNG.wonyoung1228%2Fimage.png&type=l340_165',\n",
       " 'https://search.pstatic.net/common/?src=http%3A%2F%2Fblogfiles.naver.net%2FMjAyMTA4MTdfMTEy%2FMDAxNjI5MTkwMTY1Njc4.FDVJ0JySoOeuIeBF7lTQ3yOSnexWDe5ZQkyPmJdzFcIg.nB5gkM4NMtYFDfnhxXBuR21K1o55CBYbkw0F5Vmzpi4g.PNG.jgh2004%2Fimage.png&type=l340_165',\n",
       " 'https://search.pstatic.net/common/?src=http%3A%2F%2Fimgnews.naver.net%2Fimage%2F347%2F2019%2F05%2F10%2F0000130640_001_20190510200608409.jpg&type=a340',\n",
       " 'https://search.pstatic.net/common/?src=http%3A%2F%2Fimgnews.naver.net%2Fimage%2F109%2F2019%2F04%2F26%2F0003998297_001_20190426205306286.jpg&type=a340',\n",
       " 'https://search.pstatic.net/common/?src=http%3A%2F%2Fblogfiles.naver.net%2FMjAyMTA2MjFfOTEg%2FMDAxNjI0MjQxODI5ODQx.8g1xPYPm8JhPo_vcUDMPyeSBTg2_zEuqCDShRlYqtzAg.UVxCbSSZP13wxWI3-nGrTjJvyYDTUxiD78TF6ZCXUJEg.PNG.3811148%2Fimage.png&type=a340',\n",
       " 'data:image/gif;base64,R0lGODlhAQABAIAAAAAAAP///yH5BAEAAAAALAAAAAABAAEAAAIBRAA7',\n",
       " 'https://search.pstatic.net/common/?src=http%3A%2F%2Fimgnews.naver.net%2Fimage%2F5351%2F2018%2F09%2F08%2F0000051881_001_20180908195701985.jpg&type=l340_165',\n",
       " 'https://search.pstatic.net/common/?src=http%3A%2F%2Fblogfiles.naver.net%2FMjAxODAzMTRfMjEx%2FMDAxNTIwOTk0NzQ0NjQ2.hZYzqlMHzdA0V_bWKZl_JaS6_jjqd36tdJQ6chuaySEg.rlm5PNgj2xTAwSAVT04GJwv_FIsxDp2CK6ywq-5Qd1Yg.PNG.stoccatore%2F%25B8%25B6%25C4%25AB%25B7%25D52.PNG&type=a340',\n",
       " 'https://search.pstatic.net/common/?src=http%3A%2F%2Fimgnews.naver.net%2Fimage%2F109%2F2019%2F04%2F27%2F0003998763_001_20190427185508053.jpg&type=a340',\n",
       " 'data:image/gif;base64,R0lGODlhAQABAIAAAAAAAP///yH5BAEAAAAALAAAAAABAAEAAAIBRAA7',\n",
       " 'https://search.pstatic.net/common/?src=http%3A%2F%2Fimgnews.naver.net%2Fimage%2F347%2F2019%2F05%2F10%2F0000130624_001_20190510181107781.jpg&type=a340',\n",
       " 'https://search.pstatic.net/common/?src=http%3A%2F%2Fimgnews.naver.net%2Fimage%2F347%2F2019%2F03%2F17%2F0000128841_001_20190317200802423.jpg&type=a340',\n",
       " 'https://search.pstatic.net/common/?src=http%3A%2F%2Fblogfiles.naver.net%2FMjAyMTEwMTVfMjg0%2FMDAxNjM0Mjc1Njc4MDE4.w7urnoaKcgBs9SxYgXB7VIBwbdyAZ3-G-uoJHFZX6pUg.VeEBur5zZ3glbET-yMyd0Td6muu3OyNn1oBZQUHsqCwg.JPEG.kimcj87%2FScreenshot%25A3%25DF20211015%25A3%25AD142639%25A3%25DFYouTube_Vanced.jpg&type=l340_165',\n",
       " 'https://search.pstatic.net/common/?src=http%3A%2F%2Fblogfiles.naver.net%2FMjAyMTA2MjFfMTkz%2FMDAxNjI0MjQxOTYwNTY3.c_grY37_DmcZudEZujZBYd4Jtect09OvBhbyTfKwF2Eg.z-IkKfKkH_rPSkFdgZVEqqXKEEe7d2dOWQrGtZhkaq8g.PNG.3811148%2Fimage.png&type=a340',\n",
       " 'https://search.pstatic.net/common/?src=http%3A%2F%2Fimgnews.naver.net%2Fimage%2F5017%2F2018%2F09%2F07%2F0000192289_001_20180907111549967.jpg&type=a340',\n",
       " 'data:image/gif;base64,R0lGODlhAQABAIAAAAAAAP///yH5BAEAAAAALAAAAAABAAEAAAIBRAA7',\n",
       " 'data:image/gif;base64,R0lGODlhAQABAIAAAAAAAP///yH5BAEAAAAALAAAAAABAAEAAAIBRAA7',\n",
       " 'data:image/gif;base64,R0lGODlhAQABAIAAAAAAAP///yH5BAEAAAAALAAAAAABAAEAAAIBRAA7',\n",
       " 'data:image/gif;base64,R0lGODlhAQABAIAAAAAAAP///yH5BAEAAAAALAAAAAABAAEAAAIBRAA7',\n",
       " 'data:image/gif;base64,R0lGODlhAQABAIAAAAAAAP///yH5BAEAAAAALAAAAAABAAEAAAIBRAA7',\n",
       " 'data:image/gif;base64,R0lGODlhAQABAIAAAAAAAP///yH5BAEAAAAALAAAAAABAAEAAAIBRAA7',\n",
       " 'data:image/gif;base64,R0lGODlhAQABAIAAAAAAAP///yH5BAEAAAAALAAAAAABAAEAAAIBRAA7',\n",
       " 'data:image/gif;base64,R0lGODlhAQABAIAAAAAAAP///yH5BAEAAAAALAAAAAABAAEAAAIBRAA7',\n",
       " 'data:image/gif;base64,R0lGODlhAQABAIAAAAAAAP///yH5BAEAAAAALAAAAAABAAEAAAIBRAA7',\n",
       " 'data:image/gif;base64,R0lGODlhAQABAIAAAAAAAP///yH5BAEAAAAALAAAAAABAAEAAAIBRAA7',\n",
       " 'data:image/gif;base64,R0lGODlhAQABAIAAAAAAAP///yH5BAEAAAAALAAAAAABAAEAAAIBRAA7',\n",
       " 'data:image/gif;base64,R0lGODlhAQABAIAAAAAAAP///yH5BAEAAAAALAAAAAABAAEAAAIBRAA7',\n",
       " 'data:image/gif;base64,R0lGODlhAQABAIAAAAAAAP///yH5BAEAAAAALAAAAAABAAEAAAIBRAA7',\n",
       " 'data:image/gif;base64,R0lGODlhAQABAIAAAAAAAP///yH5BAEAAAAALAAAAAABAAEAAAIBRAA7',\n",
       " 'data:image/gif;base64,R0lGODlhAQABAIAAAAAAAP///yH5BAEAAAAALAAAAAABAAEAAAIBRAA7',\n",
       " 'data:image/gif;base64,R0lGODlhAQABAIAAAAAAAP///yH5BAEAAAAALAAAAAABAAEAAAIBRAA7',\n",
       " 'data:image/gif;base64,R0lGODlhAQABAIAAAAAAAP///yH5BAEAAAAALAAAAAABAAEAAAIBRAA7',\n",
       " 'data:image/gif;base64,R0lGODlhAQABAIAAAAAAAP///yH5BAEAAAAALAAAAAABAAEAAAIBRAA7',\n",
       " 'data:image/gif;base64,R0lGODlhAQABAIAAAAAAAP///yH5BAEAAAAALAAAAAABAAEAAAIBRAA7',\n",
       " 'data:image/gif;base64,R0lGODlhAQABAIAAAAAAAP///yH5BAEAAAAALAAAAAABAAEAAAIBRAA7',\n",
       " 'data:image/gif;base64,R0lGODlhAQABAIAAAAAAAP///yH5BAEAAAAALAAAAAABAAEAAAIBRAA7',\n",
       " 'data:image/gif;base64,R0lGODlhAQABAIAAAAAAAP///yH5BAEAAAAALAAAAAABAAEAAAIBRAA7',\n",
       " 'data:image/gif;base64,R0lGODlhAQABAIAAAAAAAP///yH5BAEAAAAALAAAAAABAAEAAAIBRAA7',\n",
       " 'data:image/gif;base64,R0lGODlhAQABAIAAAAAAAP///yH5BAEAAAAALAAAAAABAAEAAAIBRAA7',\n",
       " 'data:image/gif;base64,R0lGODlhAQABAIAAAAAAAP///yH5BAEAAAAALAAAAAABAAEAAAIBRAA7',\n",
       " 'data:image/gif;base64,R0lGODlhAQABAIAAAAAAAP///yH5BAEAAAAALAAAAAABAAEAAAIBRAA7',\n",
       " 'data:image/gif;base64,R0lGODlhAQABAIAAAAAAAP///yH5BAEAAAAALAAAAAABAAEAAAIBRAA7',\n",
       " 'data:image/gif;base64,R0lGODlhAQABAIAAAAAAAP///yH5BAEAAAAALAAAAAABAAEAAAIBRAA7']"
      ]
     },
     "execution_count": 18,
     "metadata": {},
     "output_type": "execute_result"
    }
   ],
   "source": [
    "imgSrc"
   ]
  },
  {
   "cell_type": "code",
   "execution_count": 19,
   "id": "6b82ab97",
   "metadata": {},
   "outputs": [],
   "source": [
    "for i in range(len(imgSrc)):\n",
    "    urlretrieve(imgSrc[i], \"C:/Users/smhrd/Desktop/이미지/\"+str(i)+\".jpg\")\n",
    "    time.sleep(1)"
   ]
  },
  {
   "cell_type": "code",
   "execution_count": null,
   "id": "299e288d",
   "metadata": {},
   "outputs": [],
   "source": []
  },
  {
   "cell_type": "code",
   "execution_count": null,
   "id": "b87684f1",
   "metadata": {},
   "outputs": [],
   "source": []
  },
  {
   "cell_type": "code",
   "execution_count": null,
   "id": "99fe42f9",
   "metadata": {},
   "outputs": [],
   "source": []
  },
  {
   "cell_type": "code",
   "execution_count": null,
   "id": "e4907161",
   "metadata": {},
   "outputs": [],
   "source": []
  },
  {
   "cell_type": "code",
   "execution_count": null,
   "id": "f317423b",
   "metadata": {},
   "outputs": [],
   "source": []
  },
  {
   "cell_type": "code",
   "execution_count": null,
   "id": "9965439e",
   "metadata": {},
   "outputs": [],
   "source": []
  },
  {
   "cell_type": "code",
   "execution_count": null,
   "id": "62c62da7",
   "metadata": {},
   "outputs": [],
   "source": []
  },
  {
   "cell_type": "code",
   "execution_count": null,
   "id": "9e0f9691",
   "metadata": {},
   "outputs": [],
   "source": []
  },
  {
   "cell_type": "code",
   "execution_count": null,
   "id": "090f0e04",
   "metadata": {},
   "outputs": [],
   "source": []
  },
  {
   "cell_type": "code",
   "execution_count": null,
   "id": "a9684fc8",
   "metadata": {},
   "outputs": [],
   "source": []
  },
  {
   "cell_type": "code",
   "execution_count": null,
   "id": "bae47a05",
   "metadata": {},
   "outputs": [],
   "source": []
  },
  {
   "cell_type": "code",
   "execution_count": null,
   "id": "2ac441f4",
   "metadata": {},
   "outputs": [],
   "source": []
  },
  {
   "cell_type": "code",
   "execution_count": null,
   "id": "090305ef",
   "metadata": {},
   "outputs": [],
   "source": []
  },
  {
   "cell_type": "code",
   "execution_count": null,
   "id": "f35033d4",
   "metadata": {},
   "outputs": [],
   "source": []
  },
  {
   "cell_type": "code",
   "execution_count": null,
   "id": "4920a740",
   "metadata": {},
   "outputs": [],
   "source": []
  },
  {
   "cell_type": "code",
   "execution_count": null,
   "id": "9adb8f55",
   "metadata": {},
   "outputs": [],
   "source": []
  },
  {
   "cell_type": "code",
   "execution_count": null,
   "id": "99368186",
   "metadata": {},
   "outputs": [],
   "source": []
  },
  {
   "cell_type": "code",
   "execution_count": null,
   "id": "b1e3b881",
   "metadata": {},
   "outputs": [],
   "source": []
  },
  {
   "cell_type": "code",
   "execution_count": null,
   "id": "c8c01804",
   "metadata": {},
   "outputs": [],
   "source": []
  },
  {
   "cell_type": "code",
   "execution_count": null,
   "id": "055a61b1",
   "metadata": {},
   "outputs": [],
   "source": []
  },
  {
   "cell_type": "code",
   "execution_count": null,
   "id": "237fdfbc",
   "metadata": {},
   "outputs": [],
   "source": []
  },
  {
   "cell_type": "code",
   "execution_count": null,
   "id": "62e05a22",
   "metadata": {},
   "outputs": [],
   "source": []
  },
  {
   "cell_type": "code",
   "execution_count": null,
   "id": "15f2b3a5",
   "metadata": {},
   "outputs": [],
   "source": []
  },
  {
   "cell_type": "code",
   "execution_count": null,
   "id": "8a2b6fa1",
   "metadata": {},
   "outputs": [],
   "source": []
  },
  {
   "cell_type": "code",
   "execution_count": null,
   "id": "f9265e6e",
   "metadata": {},
   "outputs": [],
   "source": []
  },
  {
   "cell_type": "code",
   "execution_count": null,
   "id": "f007ae05",
   "metadata": {},
   "outputs": [],
   "source": []
  }
 ],
 "metadata": {
  "kernelspec": {
   "display_name": "Python 3 (ipykernel)",
   "language": "python",
   "name": "python3"
  },
  "language_info": {
   "codemirror_mode": {
    "name": "ipython",
    "version": 3
   },
   "file_extension": ".py",
   "mimetype": "text/x-python",
   "name": "python",
   "nbconvert_exporter": "python",
   "pygments_lexer": "ipython3",
   "version": "3.9.7"
  }
 },
 "nbformat": 4,
 "nbformat_minor": 5
}
